{
 "cells": [
  {
   "cell_type": "markdown",
   "metadata": {},
   "source": [
    "<center><h1>MNIST Hand-Written Digit Recognition</h1></center>"
   ]
  },
  {
   "cell_type": "markdown",
   "metadata": {},
   "source": [
    "### Overview\n",
    "\n",
    "This notebook uses the k-Nearest Neighbors algorithm to classify hand-written digits from the *MNIST* dataset. The algorithm is implemented from scratch using vanilla Python. The hyperparameters of the model (k, test-train split ratio) are then tuned to increase the accuracy of the model."
   ]
  },
  {
   "cell_type": "markdown",
   "metadata": {},
   "source": [
    "### Background"
   ]
  },
  {
   "cell_type": "markdown",
   "metadata": {},
   "source": [
    "The *MNIST* dataset is a large collection of handwritten digit images (and their corresponding labels), which have been preprocessed for the purposes of machine learning. This notebook uses the *MNIST* dataset with the **k-Nearest Neighbors** (kNN) algorithm, a supervised learning method, to build a simple hand-writing recognition scripts for the digits 0 to 9. The kNN method was chosen since it has a simple algorithm that lends itself well to classification problems. The drawback to this algorithm is that it slows as the size of the dataset grows, and so for larger datasets it does not scale as well as other algorithms.\n",
    "\n",
    "The Sci-Kit Learn module has an implementation of this algorithm called the KNeighborsClassifier, but for the purposes of this notebook, the algorithm has been implemented from scratch using vanilla Python. Other libraries have been used to present visualisations of how the underlying theory works.\n"
   ]
  },
  {
   "cell_type": "markdown",
   "metadata": {},
   "source": [
    "### Definitions\n",
    "\n",
    "**Classification problem** - returning a discrete value (label) from data based on its properties e.g. predicting colour, category\n",
    "\n",
    "**k-Nearest Neighbors** - a supervised learning algorithm, commonly used for classification and regression problems\n",
    "\n",
    "**Regression Problem** - returning a continuous value from data based on its properties e.g predicting height or weight\n",
    "\n",
    "**Supervised machine learning** - using labelled data to identify the information being presented e.g classifying hand-written digits\n",
    "\n",
    "**Unsupervised machine learning** - clustering data based solely on its properties, without labelling e.g clustering (such as k-means)"
   ]
  },
  {
   "cell_type": "markdown",
   "metadata": {},
   "source": [
    "### Contents\n",
    "\n",
    "Section 1 - Reading the Data\n",
    "\n",
    "Section 2 - Building the kNN Classifier\n",
    "\n",
    "Section 3 - Model Testing and Accuracy\n",
    "\n",
    "Section 4 - Tuning the Hyperparameters\n",
    "\n",
    "Section 5 - Using Custom Images\n",
    "\n",
    "Section 6 - References"
   ]
  },
  {
   "cell_type": "markdown",
   "metadata": {},
   "source": [
    "<center><h2>Section 1 - Reading the Data</h2></center>"
   ]
  },
  {
   "cell_type": "markdown",
   "metadata": {},
   "source": [
    "### 1.1 - Import Libraries"
   ]
  },
  {
   "cell_type": "code",
   "execution_count": 1,
   "metadata": {},
   "outputs": [],
   "source": [
    "import datetime\n",
    "import matplotlib.pyplot as plt\n",
    "import numpy as np\n",
    "import PIL\n",
    "from sklearn import datasets"
   ]
  },
  {
   "cell_type": "markdown",
   "metadata": {},
   "source": [
    "### 1.2 - Load the MNIST Dataset\n",
    "\n",
    "The dataset [1] can be loaded using the ```load_digits``` function from the Sci-Kit Learn library [2]. This returns a dictionary-like object called a Bunch, which has 7 keys- these can be seen in full below. The most useful of these here are ```data``` and ```target```, which refer to the image data and corresponding labels respectively. More information about the dataset and its structure can be found using the ```mnist.DESCR``` method."
   ]
  },
  {
   "cell_type": "code",
   "execution_count": 2,
   "metadata": {},
   "outputs": [
    {
     "name": "stdout",
     "output_type": "stream",
     "text": [
      "<class 'sklearn.utils.Bunch'>\n",
      "data\n",
      "target\n",
      "frame\n",
      "feature_names\n",
      "target_names\n",
      "images\n",
      "DESCR\n"
     ]
    }
   ],
   "source": [
    "# Load the MNIST dataset from Sci-Kit Learn\n",
    "digits = datasets.load_digits()\n",
    "\n",
    "print(type(digits))\n",
    "\n",
    "for key in digits:\n",
    "    print(key)"
   ]
  },
  {
   "cell_type": "markdown",
   "metadata": {},
   "source": [
    "### 1.3 - Structure of the Dataset\n",
    "\n",
    "The dataset contains 1797 64x1 NumPy arrays, each representing a grid of 8x8 pixels. The value in each element corresponds to the brightness of a pixel, and is a float ranging from 0. (black), to 16. (white), with varying shades of grey in between. "
   ]
  },
  {
   "cell_type": "code",
   "execution_count": 3,
   "metadata": {},
   "outputs": [
    {
     "name": "stdout",
     "output_type": "stream",
     "text": [
      "Image Type: <class 'numpy.ndarray'>\n",
      "Element type: <class 'numpy.float64'>\n",
      "\n",
      "[ 0.  0.  5. 13.  9.  1.  0.  0.  0.  0. 13. 15. 10. 15.  5.  0.  0.  3.\n",
      " 15.  2.  0. 11.  8.  0.  0.  4. 12.  0.  0.  8.  8.  0.  0.  5.  8.  0.\n",
      "  0.  9.  8.  0.  0.  4. 11.  0.  1. 12.  7.  0.  0.  2. 14.  5. 10. 12.\n",
      "  0.  0.  0.  0.  6. 13. 10.  0.  0.  0.]\n",
      "\n",
      "Label: 0\n"
     ]
    }
   ],
   "source": [
    "# Extract the image arrays and labels\n",
    "images = digits.data\n",
    "labels = digits.target\n",
    "\n",
    "# Print the first array and its corresponding label\n",
    "print(f'Image Type: {type(images[0])}')\n",
    "print(f'Element type: {type(images[0][0])}', end='\\n\\n')\n",
    "print(images[0],end='\\n\\n')\n",
    "print(f'Label: {labels[0]}')"
   ]
  },
  {
   "cell_type": "markdown",
   "metadata": {},
   "source": [
    "### 1.4 - Display the Image\n",
    "\n",
    "The Matplotlib library's ```imshow``` method can be  used to plot images based on pixel data. Here the first array has been plotted, with the ```cm.gray_r``` colour map. This inverts the colours, so that dark pixels are shown light and vice-versa. This gives an image we are more used to seeing: a white background with black text."
   ]
  },
  {
   "cell_type": "code",
   "execution_count": 4,
   "metadata": {},
   "outputs": [
    {
     "data": {
      "image/png": "[encoded data removed]",
      "text/plain": [
       "<Figure size 432x288 with 1 Axes>"
      ]
     },
     "metadata": {
      "needs_background": "light"
     },
     "output_type": "display_data"
    }
   ],
   "source": [
    "# Convert the data to and grid of 8x8 (could also load in the data pre-formatted using datasets.load-digits().images)\n",
    "def plot_digit(digit):\n",
    "    im = [digit[index:index+8] for index in range(0,len(digit),8)]\n",
    "    plt.imshow(im,cmap=plt.cm.gray_r)\n",
    "\n",
    "plot_digit(images[0])"
   ]
  },
  {
   "cell_type": "markdown",
   "metadata": {},
   "source": [
    "### 1.5 - Combine the Images and Labels\n",
    "\n",
    "The ```load_digits``` function returns ```images``` and ```labels``` separately, but it would be useful to join these together in a series of tuples, so that each image and label are stored next to each other. To do this, we can use the built-in ```zip``` function in Python."
   ]
  },
  {
   "cell_type": "code",
   "execution_count": 5,
   "metadata": {},
   "outputs": [
    {
     "name": "stdout",
     "output_type": "stream",
     "text": [
      "(array([ 0.,  0.,  5., 13.,  9.,  1.,  0.,  0.,  0.,  0., 13., 15., 10.,\n",
      "       15.,  5.,  0.,  0.,  3., 15.,  2.,  0., 11.,  8.,  0.,  0.,  4.,\n",
      "       12.,  0.,  0.,  8.,  8.,  0.,  0.,  5.,  8.,  0.,  0.,  9.,  8.,\n",
      "        0.,  0.,  4., 11.,  0.,  1., 12.,  7.,  0.,  0.,  2., 14.,  5.,\n",
      "       10., 12.,  0.,  0.,  0.,  0.,  6., 13., 10.,  0.,  0.,  0.]), 0)\n"
     ]
    }
   ],
   "source": [
    "data = list(zip(images,labels))\n",
    "print(data[0])"
   ]
  },
  {
   "cell_type": "markdown",
   "metadata": {},
   "source": [
    "<center><h2>Section 2 - Building the kNN Classifier</h2></center>"
   ]
  },
  {
   "cell_type": "markdown",
   "metadata": {},
   "source": [
    "### 2.1 - Representing data as points in space\n",
    "\n",
    "The k-Nearest Neighbor method [3] is a useful tool for classification problems. Each data point in a set of data can store several pieces of information. In this example, each array stores 64 values, which represent the brightness value of pixels for each pixel in an 8x8 image. The number of values stored can be thought of as the number of dimensions a data point has. \n",
    "\n",
    "Thinking about this graphically, a data point with 2 values can be plot in 2-dimensional space. This idea can be taken further to 3-dimensional space for 3 values, and n-dimensional sapce for n values.\n",
    "\n",
    "Below is an example in 2D, where some data has been plot representing items of one class in orange, and a different class in green. These form clusters since we assume items of the same class have similar properties.\n",
    "\n",
    "If a point with an unknown class is introduced to the plot, can we determine which class it belongs to? kNN uses the distance to a number of neighboring points to determine the most likely class. You can specify the value of neighbouring points, which generically is called *k*.\n",
    "\n",
    "To do this, you can find the distance between the new point and every other point on the graph, and sort them in descending order. The modal label in the first *k* results is used to classify the unknown point."
   ]
  },
  {
   "cell_type": "code",
   "execution_count": 6,
   "metadata": {},
   "outputs": [
    {
     "data": {
      "image/png": "[encoded data removed]",
      "text/plain": [
       "<Figure size 432x288 with 1 Axes>"
      ]
     },
     "metadata": {
      "needs_background": "light"
     },
     "output_type": "display_data"
    }
   ],
   "source": [
    "# Generate 400 random data points, separated into two clusters\n",
    "num_samples = 400\n",
    "coords, labels = datasets.make_blobs(n_samples = num_samples, centers = [(1,1),(2,2)], cluster_std = 0.4)\n",
    "\n",
    "# Extract the coordinates\n",
    "orange = [coord for index, coord in enumerate(coords) if labels[index] == 0]\n",
    "green = [coord for index, coord in enumerate(coords) if labels[index] == 1]\n",
    "\n",
    "orange = np.asarray(orange)\n",
    "green = np.asarray(green)\n",
    "\n",
    "\n",
    "# Plot the scatter graph\n",
    "plt.scatter(orange.T[0],orange.T[1],color='orange', label='Class 1')\n",
    "plt.scatter(green.T[0],green.T[1],color='green', label='Class 2')\n",
    "plt.scatter(1.7,1.7,color='red', label='Unknown Point')\n",
    "plt.legend()\n",
    "plt.tight_layout()\n",
    "plt.show()"
   ]
  },
  {
   "cell_type": "markdown",
   "metadata": {},
   "source": [
    "### 2.2 - Euclidean Distance\n",
    "\n",
    "The straight-line distance between two points in space is called the Euclidean distance, and for 2-dimensional space can be found using the Pythagorean theorem:\n",
    "\n",
    "&nbsp;  \n",
    "$$\n",
    "d(a,b) = \\sqrt{(a_1-b_1)^2 + (a_2-b_2)^2}\n",
    "$$\n",
    "&nbsp;  \n",
    "&nbsp;  \n",
    "&nbsp;   \n",
    "This can be extended to n-dimensional space, where the euclidean distance between 2 points $a = (a_1,a_2,...,a_n)$ and $b = (b_1,b_2,...,b_n)$ is given by\n",
    "\n",
    "&nbsp;  \n",
    "$$\n",
    "d(a,b) = \\sqrt{(a_1-b_1)^2 + (a_2-b_2)^2 + ... + (a_n-b_n)^2}\n",
    "$$"
   ]
  },
  {
   "cell_type": "code",
   "execution_count": 7,
   "metadata": {},
   "outputs": [],
   "source": [
    "def euclidean(a,b):\n",
    "    return sum([(pair[0]-pair[1])**2 for pair in zip(a,b)])**0.5"
   ]
  },
  {
   "cell_type": "markdown",
   "metadata": {},
   "source": [
    "The Euclidean function defined above should find the Euclidean distance between any two vectors, given they have the same length. To test it works, here are a few vectors of different lengths. "
   ]
  },
  {
   "cell_type": "code",
   "execution_count": 8,
   "metadata": {},
   "outputs": [
    {
     "name": "stdout",
     "output_type": "stream",
     "text": [
      "Distance between [10, 5] and [20, 10]: 11.18\n",
      "Distance between [10, 5, 1] and [20, 10, 5]: 11.18\n",
      "Distance between [10, 5, 1, 20] and [20, 10, 5, 1]: 22.41\n"
     ]
    }
   ],
   "source": [
    "# Test in 2D\n",
    "point_1 = [10,5]\n",
    "point_2 = [20,10]\n",
    "\n",
    "print(f'Distance between {point_1} and {point_2}: {euclidean(point_1,point_2):.2f}')\n",
    "\n",
    "# Test in 3D\n",
    "point_3 = [10,5,1]\n",
    "point_4 = [20,10,5]\n",
    "\n",
    "print(f'Distance between {point_3} and {point_4}: {euclidean(point_1,point_2):.2f}')\n",
    "\n",
    "# Test in 4D\n",
    "point_1 = [10,5,1,20]\n",
    "point_2 = [20,10,5,1]\n",
    "\n",
    "print(f'Distance between {point_1} and {point_2}: {euclidean(point_1,point_2):.2f}')"
   ]
  },
  {
   "cell_type": "markdown",
   "metadata": {},
   "source": [
    "### 2.3 - Calculate and Sort the Distances\n",
    "\n",
    "For the next step, a function is needed to apply the Euclidean distance function between the new unknown point, and every known point in the dataset. The distance and the label of the known point should be stored together in a tuple. The entire list can then be sorted by the distances in ascending order."
   ]
  },
  {
   "cell_type": "code",
   "execution_count": 9,
   "metadata": {},
   "outputs": [],
   "source": [
    "def sorted_distances(point, data):\n",
    "\n",
    "    distances = [(euclidean(point, datum[0]), datum[1]) for datum in data]\n",
    "    distances.sort(key=lambda x: x[0])\n",
    "\n",
    "    return distances"
   ]
  },
  {
   "cell_type": "markdown",
   "metadata": {},
   "source": [
    "To test it works, find the distance between the first image in the array and every other image. Print out the 10 closest distances (this simulates k=10). All the labels are 0, so taking the mode of these would corretly classify the image as a 0 (as shown in the plot in section 1.4)"
   ]
  },
  {
   "cell_type": "code",
   "execution_count": 10,
   "metadata": {},
   "outputs": [
    {
     "name": "stdout",
     "output_type": "stream",
     "text": [
      "(10.954451150103322, 0)\n",
      "(12.806248474865697, 0)\n",
      "(13.114877048604, 0)\n",
      "(13.2664991614216, 0)\n",
      "(13.341664064126334, 0)\n",
      "(13.45362404707371, 0)\n",
      "(15.427248620541512, 0)\n",
      "(15.652475842498529, 0)\n",
      "(15.874507866387544, 0)\n",
      "(16.3707055437449, 0)\n"
     ]
    }
   ],
   "source": [
    "distances = sorted_distances(data[0][0], data[1:])\n",
    "\n",
    "for d in distances[0:10]:\n",
    "    print(d)"
   ]
  },
  {
   "cell_type": "markdown",
   "metadata": {},
   "source": [
    "### 2.4 - Modal Label\n",
    "\n",
    "Python's ```statistics``` library has a ```mode``` function that would come in very useful here, but to complete a vanilla Python implementation a custom mode function has been defined below. This checks each label in the distance tuples and finds the most common value. If this was a regression problem instead of a classification problem, this function could be replaced with a mean instead of a mode of the labels.\n"
   ]
  },
  {
   "cell_type": "code",
   "execution_count": 11,
   "metadata": {},
   "outputs": [],
   "source": [
    "def mode(distances):\n",
    "    labels = [distance[1] for distance in distances]\n",
    "    return max(labels, key=labels.count)"
   ]
  },
  {
   "cell_type": "markdown",
   "metadata": {},
   "source": [
    "### 2.5 - Define the kNN function\n",
    "\n",
    "To implement the kNN function, simply call the functions define earlier in the correct order. First, values for k, the new datapoint as a 64x1 array, and the corpus of known data should be given as arguments. Then the sorted list of distances should be found between the new datapoint and the existing data. Next, the modal label can be found to classify the image."
   ]
  },
  {
   "cell_type": "code",
   "execution_count": 12,
   "metadata": {},
   "outputs": [],
   "source": [
    "def knn(k, point, data):\n",
    "    distances = sorted_distances(point, data)\n",
    "    modal_value = mode(distances[:k])\n",
    "    return modal_value"
   ]
  },
  {
   "cell_type": "markdown",
   "metadata": {},
   "source": [
    "Below shows how the ```knn``` function would work with an example point. In this example, element 1561 from the MNIST dataset has been chosen. The image is drawn to the screen using the ```plot_digit``` function defined earlier. The ```knn``` function correctly classifies the image as a ```6```."
   ]
  },
  {
   "cell_type": "code",
   "execution_count": 13,
   "metadata": {},
   "outputs": [
    {
     "name": "stdout",
     "output_type": "stream",
     "text": [
      "Prediction: 6\n"
     ]
    },
    {
     "data": {
      "image/png": "[encoded data removed]",
      "text/plain": [
       "<Figure size 432x288 with 1 Axes>"
      ]
     },
     "metadata": {
      "needs_background": "light"
     },
     "output_type": "display_data"
    }
   ],
   "source": [
    "point = data[1561][0]\n",
    "\n",
    "plot_digit(point)\n",
    "print(f'Prediction: {knn(22, point, data)}')"
   ]
  },
  {
   "cell_type": "markdown",
   "metadata": {},
   "source": [
    "<center><h2>Section 3 - Model Testing and Accuracy</h2></center>"
   ]
  },
  {
   "cell_type": "markdown",
   "metadata": {},
   "source": [
    "### 3.1 - Create Training Data and Testing Data\n",
    "\n",
    "The problem with the test above, is that the model has already 'seen' the test data. This is because there is no separation of the data used to train the model and the data used to test it. In fact, the first element returned in the ```distances``` list will be ```0```, since the distance calculated will be between the test point and itself.\n",
    "\n",
    "One way to solve this issue is to present a percentage of the data to the model for training, whilst holding back the remaining images for testing. This creates a set of *training data* and *testing data*.\n",
    "\n",
    "Below the function accepts an input for the percentage for the data to be used for testing (given as a value from 0 to 1). This then returns two lists, containing the training and testing data respectively. A function exists for this in ```sklearn.model_selection.train_test_split```, but has been written here from scratch."
   ]
  },
  {
   "cell_type": "code",
   "execution_count": 14,
   "metadata": {},
   "outputs": [],
   "source": [
    "def train_test(test_split, data):\n",
    "    test_size = int(len(data)*test_split)\n",
    "    train_data, test_data = data[test_size:], data[:test_size]\n",
    "    return train_data, test_data"
   ]
  },
  {
   "cell_type": "markdown",
   "metadata": {},
   "source": [
    "Here the dataset has been split into 80% training data, and 20% testing data. By using a test-train split, we can assess the accuracy of the model by looking at its performance against the testing data. Deciding on the percentage split can affect the performance of the model. Using too small too few training samples will give poorer accuracy, but using too many will decrease the confidence in the results, since the amount of testing is reduced. Much research has been done on this topic, and further discussion can be found in [4]."
   ]
  },
  {
   "cell_type": "code",
   "execution_count": 15,
   "metadata": {},
   "outputs": [
    {
     "name": "stdout",
     "output_type": "stream",
     "text": [
      "Images in training set: 1438\n",
      "Images in testing set: 359\n",
      "Total images: 1797\n"
     ]
    }
   ],
   "source": [
    "# Split the data\n",
    "train_data, test_data = train_test(0.20, data)\n",
    "\n",
    "# Print the number of data points in each set\n",
    "print(f'Images in training set: {len(train_data)}')\n",
    "print(f'Images in testing set: {len(test_data)}')\n",
    "\n",
    "# Check the sum of the two sets adds to the total in the dataset\n",
    "print(f'Total images: {len(train_data)+len(test_data)}')"
   ]
  },
  {
   "cell_type": "markdown",
   "metadata": {},
   "source": [
    "### 3.2 - Determine the Accuracy of the Model\n",
    "\n",
    "It is useful to know how well the model performs in order to make judgements about the user-defined parameters such as the value of *k*, and the test-train split ratio. Because of this, a function is defined below that takes in a value for *k*, percentage of testing data, and the data to test as arguments, then returns the accuracy for the model over the testing data. This can then be called upon for multiple different combinations of input parameters to produce the highest model accuracy."
   ]
  },
  {
   "cell_type": "code",
   "execution_count": 16,
   "metadata": {},
   "outputs": [],
   "source": [
    "def accuracy(k, test_split, data):\n",
    "\n",
    "    train_data, test_data = train_test(test_split, data)\n",
    "\n",
    "    success_count = 0\n",
    "    for point in test_data:\n",
    "        if knn(k, point[0], train_data) == point[1]:\n",
    "            success_count += 1\n",
    "\n",
    "    accuracy = (success_count/len(test_data)) * 100\n",
    "    return accuracy"
   ]
  },
  {
   "cell_type": "code",
   "execution_count": 17,
   "metadata": {},
   "outputs": [
    {
     "name": "stdout",
     "output_type": "stream",
     "text": [
      "Accuracy for k = 10, with 20.0% testing data: 94.43%\n"
     ]
    }
   ],
   "source": [
    "k = 10\n",
    "test_split = 0.2\n",
    "print(f'Accuracy for k = {k}, with {test_split*100}% testing data: {accuracy(k, test_split, data):.2f}%')"
   ]
  },
  {
   "cell_type": "markdown",
   "metadata": {},
   "source": [
    "<center><h2>Section 4 - Tuning the Hyperparameters</h2></center>"
   ]
  },
  {
   "cell_type": "markdown",
   "metadata": {},
   "source": [
    "### 4.1 - Use Different Combinations of Hyperparameters\n",
    "\n",
    "One way to find the optimum user-defined parameters (collectively called hyperparameters), is to use a range of combinations and measure the accuracies. In this case, the hyperparameters are *k* and the test-train split ratio, so different combinations of these values parameters can be used to determine the optimum configuration for the model.The next step is to plot the accuracy for each combination, to try to identify any trends. This will help tune model for future classifications.\n",
    "\n",
    "Some heuristics exist for determining a value for *k* (such as taking the square root of the size of the dataset), but it is common practice to initialise *k* as a random value. In the previous section, *k* was given the value ```10``` without much regard for the accuracy this would have on the results. Now the algorithm has been tested, its parameters can be tuned."
   ]
  },
  {
   "cell_type": "code",
   "execution_count": 49,
   "metadata": {},
   "outputs": [
    {
     "name": "stdout",
     "output_type": "stream",
     "text": [
      "The optimum parameters are k = 1 with 0.25% testing data\n",
      "The highest accuracy was 96.66%\n"
     ]
    }
   ],
   "source": [
    "results = []\n",
    "\n",
    "for k in range(1,6):\n",
    "    for test_split in [0.05, 0.10, 0.15, 0.20, 0.25, 0.30]:\n",
    "        a = accuracy(k, test_split, data)\n",
    "        results.append([a, k, test_split])\n",
    "\n",
    "results.sort(key=lambda x: x[0], reverse=True)\n",
    "tuned = results[0]\n",
    "print(f'The optimum parameters are k = {tuned[1]} with {tuned[2]}% testing data')\n",
    "print(f'The highest accuracy was {tuned[0]:.2f}%')"
   ]
  },
  {
   "cell_type": "markdown",
   "metadata": {},
   "source": [
    "### 4.2 - Plot the Accuracy Curves\n",
    "\n",
    "Once the results have been collected, plots can be made to visualise the effect of *k* and the test-train split ratio on the accuracy of the model over the testing data. The trends in these plots can be used to indentify which hyperparameters values will give the best accuracy, without testing every possible combination of values.\n",
    "\n",
    "Below a function is defined that will extract results from the optimisation study above. This is used to create each of the lines in the plots."
   ]
  },
  {
   "cell_type": "code",
   "execution_count": 98,
   "metadata": {},
   "outputs": [],
   "source": [
    "def get_results(k=None, split=None):\n",
    "\n",
    "    if k != None and split == None:\n",
    "        output = [result for result in results if result[1] == k]\n",
    "        output.sort(key=lambda x: x[2])\n",
    "        output = [result[0] for result in output]\n",
    "    \n",
    "    elif split != None and k == None:\n",
    "        output = [result for result in results if result[2] == split]\n",
    "        output.sort(key=lambda x: x[1])\n",
    "        output = [result[0] for result in output]\n",
    "\n",
    "    return output"
   ]
  },
  {
   "cell_type": "code",
   "execution_count": 102,
   "metadata": {},
   "outputs": [
    {
     "data": {
      "image/png": "[encoded data removed]",
      "text/plain": [
       "<Figure size 900x450 with 2 Axes>"
      ]
     },
     "metadata": {
      "needs_background": "light"
     },
     "output_type": "display_data"
    }
   ],
   "source": [
    "fig, ax = plt.subplots(nrows=1, ncols=2)\n",
    "fig.set_figwidth(12.5)\n",
    "fig.set_figheight(6.25)\n",
    "fig.suptitle('The Effect of Hyperparameters on a k-Nearest Neighbors Algorithm Performance ', fontsize=16)\n",
    "\n",
    "for i in range(1,6):\n",
    "    ax[0].plot([0.05, 0.10, 0.15, 0.20, 0.25, 0.30], get_results(k=i), label=f'k = {i}')\n",
    "\n",
    "for i in [0.05, 0.10, 0.15, 0.20, 0.25, 0.30]:\n",
    "    ax[1].plot([1,2,3,4,5], get_results(split=i), label=f'Test:Train = {i}')\n",
    "\n",
    "ax[0].set_title('Accuracy for Constant k Values')\n",
    "ax[0].set_xlabel('Test:Train Split Ratio')\n",
    "ax[0].set_ylabel('Accuracy (%)')\n",
    "ax[0].legend()\n",
    "\n",
    "ax[0].set_title('Accuracy for Constant Test:Train Split Ratios')\n",
    "ax[1].set_xlabel('k')\n",
    "ax[1].set_ylabel('Accuracy (%)')\n",
    "ax[1].legend()\n",
    "\n",
    "fig.tight_layout()\n"
   ]
  },
  {
   "cell_type": "markdown",
   "metadata": {},
   "source": [
    "### 4.3 - Comments on Results\n",
    "\n",
    "This algorithm showed best performance with a *k* value of 1. Typically, such small values of *k* are undesirable since they can lead to unstable decision boundaries [5]. Larger values of *k* smooth out decision boundary, making the algorithm more robust to anomylous values. For the training set used, the accuracies for *k* = 1 and *k* = 2 are identical. Since these both produce the highest accuracy, but *k* = 2 has a slightly more stable decision boundary, this value should be taken forward to use with future unknown data points.\n",
    "\n",
    "The algorithm also showed a non-linear relationship between the test:train split ratio and the accuracy, with accuracy dipping then seeming to peak around 96.7% for a 25:75 split of test:train. This result was more expected, since lower percentages of test data (such as 25%) leave a greater amount of data available to train the algorithm and hence increase its accuracy. The decrease in accuracy with a 10% and 15% split was less expected, and may be attributed to the algorithm 'learning the noise' of the input data set, which would then be detrimental to classifying the testing data"
   ]
  },
  {
   "cell_type": "markdown",
   "metadata": {},
   "source": [
    "### 4.4 - Conclusion\n",
    "\n",
    "For the k-Nearest Neighbors algorithm used in this notebook, and for the dataset tested on, the best combination of hyperparameters appears to be:\n",
    "\n",
    "* *k* = 2\n",
    "* Test:Train split = 25:75"
   ]
  },
  {
   "cell_type": "markdown",
   "metadata": {},
   "source": [
    "<center><h2>Section 5 - Using Custom Images</h2></center>"
   ]
  },
  {
   "cell_type": "markdown",
   "metadata": {},
   "source": [
    "<center><h2>Section 6 - References</h2></center>\n",
    "\n",
    "[1] Dataset background and downloads - [Lecun](http://yann.lecun.com/exdb/mnist/)\n",
    "\n",
    "[2] Machine learning in Python - [Sci-Kit Learn](https://scikit-learn.org/stable/)\n",
    "\n",
    "[3] Overview of the kNN algorithm - [Towards Data Science](https://towardsdatascience.com/machine-learning-basics-with-the-k-nearest-neighbors-algorithm-6a6e71d01761)\n",
    "\n",
    "[4] Test-train split ratios - [Baeldung](https://www.baeldung.com/cs/train-test-datasets-ratio#:~:text=If%20we%20search%20the%20Internet,even%20a%2050%3A50%20split.)\n",
    "\n",
    "[5] Choosing a value of k - [Towards Data Science](https://towardsdatascience.com/how-to-find-the-optimal-value-of-k-in-knn-35d936e554eb)"
   ]
  }
 ],
 "metadata": {
  "interpreter": {
   "hash": "d12f8feabeafaf270980e7c9bb07a64bda11bc8bed6d60be55672b74d1da4805"
  },
  "kernelspec": {
   "display_name": "Python 3.9.7 64-bit ('base': conda)",
   "language": "python",
   "name": "python3"
  },
  "language_info": {
   "codemirror_mode": {
    "name": "ipython",
    "version": 3
   },
   "file_extension": ".py",
   "mimetype": "text/x-python",
   "name": "python",
   "nbconvert_exporter": "python",
   "pygments_lexer": "ipython3",
   "version": "3.9.7"
  },
  "orig_nbformat": 4
 },
 "nbformat": 4,
 "nbformat_minor": 2
}
